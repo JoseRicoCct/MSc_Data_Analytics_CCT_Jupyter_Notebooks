{
 "cells": [
  {
   "cell_type": "code",
   "execution_count": 1,
   "id": "ffefb0e8-709b-4a35-b76c-33ed804a07f5",
   "metadata": {},
   "outputs": [],
   "source": [
    "a = 3"
   ]
  },
  {
   "cell_type": "code",
   "execution_count": 2,
   "id": "70a2da48-3d05-45a4-8c42-66edb6a914c5",
   "metadata": {},
   "outputs": [
    {
     "data": {
      "text/plain": [
       "3"
      ]
     },
     "execution_count": 2,
     "metadata": {},
     "output_type": "execute_result"
    }
   ],
   "source": [
    "a"
   ]
  },
  {
   "cell_type": "code",
   "execution_count": 3,
   "id": "72cfdb06-5b7e-4982-8a00-9db2dc2ce114",
   "metadata": {},
   "outputs": [],
   "source": [
    "a = 'Hello world'"
   ]
  },
  {
   "cell_type": "code",
   "execution_count": 4,
   "id": "5978cb27-ce45-4e43-98b4-182c2d02874b",
   "metadata": {},
   "outputs": [
    {
     "data": {
      "text/plain": [
       "'Hello world'"
      ]
     },
     "execution_count": 4,
     "metadata": {},
     "output_type": "execute_result"
    }
   ],
   "source": [
    "a\n"
   ]
  },
  {
   "cell_type": "code",
   "execution_count": 5,
   "id": "197621b0-bc3a-459c-bbbb-f31d8fe10187",
   "metadata": {},
   "outputs": [],
   "source": [
    "a = 1982310923012943014812084102841028341024812049812048190254712754912741927431284712847184371284\n"
   ]
  },
  {
   "cell_type": "code",
   "execution_count": 6,
   "id": "8ac07e1d-c9a1-428d-866c-5a7a9b2566ae",
   "metadata": {},
   "outputs": [
    {
     "data": {
      "text/plain": [
       "1982310923012943014812084102841028341024812049812048190254712754912741927431284712847184371284"
      ]
     },
     "execution_count": 6,
     "metadata": {},
     "output_type": "execute_result"
    }
   ],
   "source": [
    "a\n"
   ]
  },
  {
   "cell_type": "code",
   "execution_count": 7,
   "id": "81db1afa-dbc7-40f8-a47c-f3d4b84f9031",
   "metadata": {},
   "outputs": [
    {
     "data": {
      "text/plain": [
       "1982310923012943014812084102841028341024812049812048190254712754912741927431284712847184371285"
      ]
     },
     "execution_count": 7,
     "metadata": {},
     "output_type": "execute_result"
    }
   ],
   "source": [
    "a + 1"
   ]
  },
  {
   "cell_type": "code",
   "execution_count": 8,
   "id": "9f755f0e-a671-47dc-8885-ea5f7d3648d5",
   "metadata": {},
   "outputs": [],
   "source": [
    "a = 1.0"
   ]
  },
  {
   "cell_type": "code",
   "execution_count": 9,
   "id": "5df6f841-ed36-4b4d-87fe-caaf213eabef",
   "metadata": {},
   "outputs": [],
   "source": [
    "a = 1.912039102391029310923102931784912748127381241241274318273189731"
   ]
  },
  {
   "cell_type": "code",
   "execution_count": 10,
   "id": "d7f781f3-a1cb-415e-8513-97e9e899260d",
   "metadata": {},
   "outputs": [
    {
     "data": {
      "text/plain": [
       "1.9120391023910293"
      ]
     },
     "execution_count": 10,
     "metadata": {},
     "output_type": "execute_result"
    }
   ],
   "source": [
    "a\n"
   ]
  },
  {
   "cell_type": "code",
   "execution_count": 11,
   "id": "b0bfd16a-871f-4b96-9bda-551a3bae3590",
   "metadata": {},
   "outputs": [],
   "source": [
    "a = (1, 2, 3)"
   ]
  },
  {
   "cell_type": "code",
   "execution_count": 12,
   "id": "94b0674b-b71b-4771-bf6a-ac729c0933b5",
   "metadata": {},
   "outputs": [
    {
     "data": {
      "text/plain": [
       "2"
      ]
     },
     "execution_count": 12,
     "metadata": {},
     "output_type": "execute_result"
    }
   ],
   "source": [
    "a[1]"
   ]
  },
  {
   "cell_type": "code",
   "execution_count": 13,
   "id": "e96ae872-8e2d-4d7c-b1e2-daea24f11de1",
   "metadata": {},
   "outputs": [],
   "source": [
    "a = [1, 2, 3]"
   ]
  },
  {
   "cell_type": "code",
   "execution_count": 14,
   "id": "89697a46-d424-417a-b532-30995edbe722",
   "metadata": {},
   "outputs": [],
   "source": [
    "b = (1, 2, 3)"
   ]
  },
  {
   "cell_type": "code",
   "execution_count": 15,
   "id": "6392a6b9-3f6a-4ad3-a9c5-77dd10a2724e",
   "metadata": {},
   "outputs": [
    {
     "data": {
      "text/plain": [
       "6"
      ]
     },
     "execution_count": 15,
     "metadata": {},
     "output_type": "execute_result"
    }
   ],
   "source": [
    "a[2] + b[2]"
   ]
  },
  {
   "cell_type": "code",
   "execution_count": 16,
   "id": "a361e08e-bbe0-480b-ab05-ba94794b5c81",
   "metadata": {},
   "outputs": [],
   "source": [
    "a[2] = 27"
   ]
  },
  {
   "cell_type": "code",
   "execution_count": 17,
   "id": "00ea6d78-1a09-44f5-aac6-7a757408b8ef",
   "metadata": {},
   "outputs": [
    {
     "data": {
      "text/plain": [
       "[1, 2, 27]"
      ]
     },
     "execution_count": 17,
     "metadata": {},
     "output_type": "execute_result"
    }
   ],
   "source": [
    "a"
   ]
  },
  {
   "cell_type": "code",
   "execution_count": 18,
   "id": "f6c0ac0e-8984-4d26-9c73-8433afdb6890",
   "metadata": {},
   "outputs": [
    {
     "ename": "TypeError",
     "evalue": "'tuple' object does not support item assignment",
     "output_type": "error",
     "traceback": [
      "\u001b[0;31m---------------------------------------------------------------------------\u001b[0m",
      "\u001b[0;31mTypeError\u001b[0m                                 Traceback (most recent call last)",
      "Cell \u001b[0;32mIn[18], line 1\u001b[0m\n\u001b[0;32m----> 1\u001b[0m \u001b[43mb\u001b[49m\u001b[43m[\u001b[49m\u001b[38;5;241;43m2\u001b[39;49m\u001b[43m]\u001b[49m \u001b[38;5;241m=\u001b[39m \u001b[38;5;241m27\u001b[39m\n",
      "\u001b[0;31mTypeError\u001b[0m: 'tuple' object does not support item assignment"
     ]
    }
   ],
   "source": [
    "b[2] = 27"
   ]
  },
  {
   "cell_type": "code",
   "execution_count": 25,
   "id": "20808cc4-4547-41e7-bf64-ae7d12d1a4e7",
   "metadata": {},
   "outputs": [],
   "source": [
    "c = (1, 2, 3)"
   ]
  },
  {
   "cell_type": "code",
   "execution_count": 20,
   "id": "4082305d-a21f-44af-984f-453adef6af3f",
   "metadata": {},
   "outputs": [
    {
     "name": "stdout",
     "output_type": "stream",
     "text": [
      "(1, 2, 3)\n"
     ]
    }
   ],
   "source": [
    "print(c)"
   ]
  },
  {
   "cell_type": "code",
   "execution_count": 21,
   "id": "86a98ae3-eb5f-4e48-9432-429682acc8e7",
   "metadata": {},
   "outputs": [
    {
     "data": {
      "text/plain": [
       "tuple"
      ]
     },
     "execution_count": 21,
     "metadata": {},
     "output_type": "execute_result"
    }
   ],
   "source": [
    "type(c)"
   ]
  },
  {
   "cell_type": "code",
   "execution_count": 22,
   "id": "aa15c960-cdaf-4abb-8c50-d607e28a3751",
   "metadata": {},
   "outputs": [
    {
     "data": {
      "text/plain": [
       "list"
      ]
     },
     "execution_count": 22,
     "metadata": {},
     "output_type": "execute_result"
    }
   ],
   "source": [
    "type(a)"
   ]
  },
  {
   "cell_type": "code",
   "execution_count": 23,
   "id": "00afb8ae-649a-4cc5-ba53-9e3fe17c14e9",
   "metadata": {},
   "outputs": [],
   "source": [
    "c = \"bananas\""
   ]
  },
  {
   "cell_type": "code",
   "execution_count": 24,
   "id": "f865a896-3c99-48f7-b8e0-a187c7311219",
   "metadata": {},
   "outputs": [
    {
     "data": {
      "text/plain": [
       "str"
      ]
     },
     "execution_count": 24,
     "metadata": {},
     "output_type": "execute_result"
    }
   ],
   "source": [
    "type(c)"
   ]
  },
  {
   "cell_type": "code",
   "execution_count": 26,
   "id": "c8de30eb-fc23-4be3-a6f5-1841f782cb89",
   "metadata": {},
   "outputs": [
    {
     "data": {
      "text/plain": [
       "type"
      ]
     },
     "execution_count": 26,
     "metadata": {},
     "output_type": "execute_result"
    }
   ],
   "source": [
    "type(type)"
   ]
  },
  {
   "cell_type": "code",
   "execution_count": 28,
   "id": "d6f5422a-d5ca-4394-91d2-26dd4cc495e1",
   "metadata": {},
   "outputs": [
    {
     "data": {
      "text/plain": [
       "type"
      ]
     },
     "execution_count": 28,
     "metadata": {},
     "output_type": "execute_result"
    }
   ],
   "source": [
    "type(type(c))"
   ]
  },
  {
   "cell_type": "code",
   "execution_count": null,
   "id": "b3e6206b-3600-4a51-bac2-fc294c3f9540",
   "metadata": {},
   "outputs": [],
   "source": [
    "a = type(c)"
   ]
  },
  {
   "cell_type": "code",
   "execution_count": 29,
   "id": "05dc903a-ff5a-49c1-aad7-9527a96ea2db",
   "metadata": {},
   "outputs": [
    {
     "data": {
      "text/plain": [
       "[1, 2, 27]"
      ]
     },
     "execution_count": 29,
     "metadata": {},
     "output_type": "execute_result"
    }
   ],
   "source": [
    "a"
   ]
  },
  {
   "cell_type": "code",
   "execution_count": 34,
   "id": "0e8d73e0-6c9e-4019-8130-5a24a4287baf",
   "metadata": {},
   "outputs": [],
   "source": [
    "a = 1.1"
   ]
  },
  {
   "cell_type": "code",
   "execution_count": 35,
   "id": "f4f65bd5-1a39-49df-873f-2b2acf0b8570",
   "metadata": {},
   "outputs": [],
   "source": [
    "b = 2\n",
    "c = a+b"
   ]
  },
  {
   "cell_type": "code",
   "execution_count": 36,
   "id": "394786f5-595c-498a-b7c8-df5c8e04b879",
   "metadata": {},
   "outputs": [
    {
     "data": {
      "text/plain": [
       "3.1"
      ]
     },
     "execution_count": 36,
     "metadata": {},
     "output_type": "execute_result"
    }
   ],
   "source": [
    "c"
   ]
  },
  {
   "cell_type": "code",
   "execution_count": null,
   "id": "0dafc0c8-4e78-4444-a6fc-2038fdb113ce",
   "metadata": {},
   "outputs": [],
   "source": []
  },
  {
   "cell_type": "code",
   "execution_count": 39,
   "id": "41724135-21e5-437a-9a85-0d3b51c81ccc",
   "metadata": {},
   "outputs": [
    {
     "data": {
      "text/plain": [
       "int"
      ]
     },
     "execution_count": 39,
     "metadata": {},
     "output_type": "execute_result"
    }
   ],
   "source": [
    "type(int(\"321\"))"
   ]
  },
  {
   "cell_type": "code",
   "execution_count": 41,
   "id": "5a7d8e08-00fd-416d-84bc-e6b0c7511d1e",
   "metadata": {},
   "outputs": [
    {
     "data": {
      "text/plain": [
       "'3212'"
      ]
     },
     "execution_count": 41,
     "metadata": {},
     "output_type": "execute_result"
    }
   ],
   "source": [
    "\"321\" + str(2)"
   ]
  },
  {
   "cell_type": "markdown",
   "id": "10e5af85-4597-48f9-9e4f-c0f6fac2252b",
   "metadata": {},
   "source": [
    "Always remember:\n",
    "- Double equal is comparison\n",
    "- Single equal is assignment"
   ]
  },
  {
   "cell_type": "code",
   "execution_count": 58,
   "id": "244091ad-c42b-45db-ba6f-5ad46a6c5c74",
   "metadata": {},
   "outputs": [
    {
     "ename": "IndentationError",
     "evalue": "unexpected indent (3452826972.py, line 4)",
     "output_type": "error",
     "traceback": [
      "\u001b[0;36m  Cell \u001b[0;32mIn[58], line 4\u001b[0;36m\u001b[0m\n\u001b[0;31m    print(a)\u001b[0m\n\u001b[0m    ^\u001b[0m\n\u001b[0;31mIndentationError\u001b[0m\u001b[0;31m:\u001b[0m unexpected indent\n"
     ]
    }
   ],
   "source": [
    "a = 4\n",
    "if a % 2 == 1:\n",
    "   a += 1 # this is equivalent to a = a + 1\n",
    "    print(a)\n"
   ]
  },
  {
   "cell_type": "code",
   "execution_count": 61,
   "id": "087c6d45-f92b-44ed-9c79-b2bc6fc50f5f",
   "metadata": {},
   "outputs": [
    {
     "name": "stdout",
     "output_type": "stream",
     "text": [
      "4\n"
     ]
    }
   ],
   "source": [
    "a = 3\n",
    "if a % 2 == 1:\n",
    "    a += 1 # this is equivalent to a = a + 1\n",
    "    print(a)"
   ]
  },
  {
   "cell_type": "code",
   "execution_count": 69,
   "id": "bd9e54b2-7aa6-47a3-8422-05a7eaecd822",
   "metadata": {},
   "outputs": [],
   "source": [
    "# I want to increment 1 if a is an odd number but I want to assign a = 0 if a is an even number\n",
    "a = -3\n",
    "if a % 2 == 1:\n",
    "    a += 1\n",
    "elif a % 2 == 0:\n",
    "    a = 0\n",
    "else:\n",
    "    print('This should never happen')\n"
   ]
  },
  {
   "cell_type": "code",
   "execution_count": 71,
   "id": "05f93748-9715-4d0f-b121-21ee582f1216",
   "metadata": {},
   "outputs": [],
   "source": [
    "a = 1 + 2 + 3 + 4 + 5 + 6 + 7 + 8 + 9"
   ]
  },
  {
   "cell_type": "code",
   "execution_count": 72,
   "id": "668f8469-26b2-44e6-bc04-2035915f3a00",
   "metadata": {},
   "outputs": [
    {
     "data": {
      "text/plain": [
       "45"
      ]
     },
     "execution_count": 72,
     "metadata": {},
     "output_type": "execute_result"
    }
   ],
   "source": [
    "a"
   ]
  },
  {
   "cell_type": "code",
   "execution_count": 85,
   "id": "7c0f7a09-e3dd-4211-98fe-33860da31a3a",
   "metadata": {},
   "outputs": [
    {
     "name": "stdout",
     "output_type": "stream",
     "text": [
      "45\n",
      "1\n",
      "2\n",
      "3\n",
      "4\n",
      "45\n",
      "6\n",
      "7\n",
      "7\n",
      "6\n",
      "10\n",
      "6\n",
      "1\n",
      "2\n",
      "6\n",
      "5\n"
     ]
    }
   ],
   "source": [
    "# for loops are used when you know the boundaries of the iteration\n",
    "sum = 0\n",
    "for a in range(1, 10):\n",
    "    sum += a\n",
    "print(sum)\n",
    "\n",
    "# for loops are also used to iterate iterables\n",
    "iterable_a = [7, 8, 7, 6]\n",
    "for a in iterable_a:\n",
    "    print(a)\n",
    "\n",
    "a = 0\n",
    "while a < len(iterable_a):\n",
    "    print(iterable[a])\n",
    "    a+= 1\n",
    "\n",
    "# This also works but it is ugly.\n",
    "x = 1\n",
    "sum_two = 0\n",
    "while x < 10:\n",
    "    sum_two += x\n",
    "    x+= 1\n",
    "print(sum_two)\n",
    "\n",
    "# while loops are used when you have a condition that is reevaluated during the execution of the loop\n",
    "import random\n",
    "x = 0\n",
    "while x != 5:\n",
    "    x = random.randint(1, 10)\n",
    "    print(x)\n"
   ]
  },
  {
   "cell_type": "code",
   "execution_count": 93,
   "id": "3f7a49ec-6c79-4fcd-a76d-a46a62fd5858",
   "metadata": {},
   "outputs": [
    {
     "name": "stdout",
     "output_type": "stream",
     "text": [
      "7\n",
      "7\n",
      "7\n",
      "6\n"
     ]
    }
   ],
   "source": [
    "# for loops are also used to iterate iterables\n",
    "iterable_a = [7, \"Hello\", 7, 6]\n",
    "for a in iterable_a:\n",
    "    if type(a) is str:\n",
    "        break\n",
    "    print(a)\n",
    "    \n",
    "\n",
    "# for loops are also used to iterate iterables\n",
    "iterable_a = [7, \"Hello\", 7, 6]\n",
    "for a in iterable_a:\n",
    "    if type(a) is str:\n",
    "        continue\n",
    "    print(a)\n",
    "\n"
   ]
  },
  {
   "cell_type": "code",
   "execution_count": 97,
   "id": "e49baa62-67f4-49bf-bf27-1ba9121996f8",
   "metadata": {},
   "outputs": [
    {
     "name": "stdout",
     "output_type": "stream",
     "text": [
      "it is greater than 60\n"
     ]
    }
   ],
   "source": [
    "# check if the sum of the list stored in c is greater than 60\n",
    "c = [1, 2, 300, 5, 10, 18]\n",
    "accumulator = 0\n",
    "\n",
    "for a in c:\n",
    "    accumulator += a\n",
    "    if accumulator > 60:\n",
    "        print('it is greater than 60')\n",
    "        break\n",
    "\n",
    "    "
   ]
  },
  {
   "cell_type": "code",
   "execution_count": 98,
   "id": "4add8ec0-10e4-4648-a13f-1e4c21ba4658",
   "metadata": {},
   "outputs": [
    {
     "data": {
      "text/plain": [
       "123"
      ]
     },
     "execution_count": 98,
     "metadata": {},
     "output_type": "execute_result"
    }
   ],
   "source": [
    "# Part 1 exercise 3\n",
    "int('123')"
   ]
  },
  {
   "cell_type": "code",
   "execution_count": 99,
   "id": "4b5b62b5-e534-4fab-a84f-6eacb353a4d6",
   "metadata": {},
   "outputs": [
    {
     "data": {
      "text/plain": [
       "123.0"
      ]
     },
     "execution_count": 99,
     "metadata": {},
     "output_type": "execute_result"
    }
   ],
   "source": [
    "float('123')"
   ]
  },
  {
   "cell_type": "code",
   "execution_count": 100,
   "id": "49c0ec88-fa04-4fb6-8e05-d0cb8168bbb2",
   "metadata": {},
   "outputs": [
    {
     "data": {
      "text/plain": [
       "'123.1'"
      ]
     },
     "execution_count": 100,
     "metadata": {},
     "output_type": "execute_result"
    }
   ],
   "source": [
    "str(123.1)"
   ]
  },
  {
   "cell_type": "code",
   "execution_count": 111,
   "id": "0766256e-bf92-4d42-9aa6-39acef3d313e",
   "metadata": {},
   "outputs": [
    {
     "name": "stdin",
     "output_type": "stream",
     "text": [
      "Give me the number: 123\n"
     ]
    },
    {
     "name": "stdout",
     "output_type": "stream",
     "text": [
      "1\n",
      "3\n",
      "41\n",
      "123\n",
      "1\n",
      "3\n",
      "41\n",
      "123\n"
     ]
    }
   ],
   "source": [
    "# Get the divisors of a number:\n",
    "number = int(input('Give me the number:'))\n",
    "iterator = 1\n",
    "while iterator <= number: # 1, 2, 3... number\n",
    "    if number % iterator == 0:\n",
    "        print(iterator)\n",
    "    iterator +=1\n",
    "\n",
    "# Get the divisors of a number:\n",
    "for a in range(1, number + 1):\n",
    "    if number % a == 0:\n",
    "        print(a)\n",
    "    "
   ]
  },
  {
   "cell_type": "code",
   "execution_count": 118,
   "id": "f9571bd9-146c-457e-882f-de86205fc634",
   "metadata": {},
   "outputs": [
    {
     "name": "stdout",
     "output_type": "stream",
     "text": [
      "1 is prime\n",
      "2 is prime\n",
      "3 is prime\n",
      "7 is prime\n",
      "11 is prime\n"
     ]
    }
   ],
   "source": [
    "a = [1, 2, 4, 22, 3, 4, 7, 8, 11]\n",
    "\n",
    "def is_prime(number):\n",
    "    ''' Checks if number is a prime number. '''\n",
    "    divisors = 0\n",
    "    for a in range(1, value + 1):\n",
    "        if value % a == 0:\n",
    "            divisors += 1\n",
    "    if divisors == 2 or value == 1:\n",
    "        return True\n",
    "    return False\n",
    "    \n",
    "\n",
    "for value in a:\n",
    "    if is_prime(value):\n",
    "        print(str(value) + ' is prime')\n",
    "    "
   ]
  }
 ],
 "metadata": {
  "kernelspec": {
   "display_name": "Python 3 (ipykernel)",
   "language": "python",
   "name": "python3"
  },
  "language_info": {
   "codemirror_mode": {
    "name": "ipython",
    "version": 3
   },
   "file_extension": ".py",
   "mimetype": "text/x-python",
   "name": "python",
   "nbconvert_exporter": "python",
   "pygments_lexer": "ipython3",
   "version": "3.8.10"
  }
 },
 "nbformat": 4,
 "nbformat_minor": 5
}