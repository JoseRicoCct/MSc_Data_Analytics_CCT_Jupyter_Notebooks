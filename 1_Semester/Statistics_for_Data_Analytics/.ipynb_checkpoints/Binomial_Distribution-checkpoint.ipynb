{
 "cells": [
  {
   "cell_type": "markdown",
   "id": "c3ba235e",
   "metadata": {},
   "source": [
    "## Binomial Distribution\n",
    "\n",
    "It is known by previous studies that 20% of the population in Dublin smokes. If we randomly choose 10\n",
    "people:"
   ]
  },
  {
   "cell_type": "markdown",
   "id": "8a7e7727",
   "metadata": {},
   "source": [
    "a) What is the probability to find exactly 3 people who smoke?"
   ]
  },
  {
   "cell_type": "code",
   "execution_count": 1,
   "id": "f7abe505",
   "metadata": {},
   "outputs": [
    {
     "name": "stdout",
     "output_type": "stream",
     "text": [
      "The probability of exactly 3 people smoking out of 10 is: 0.2013\n"
     ]
    }
   ],
   "source": [
    "import math\n",
    "\n",
    "n = 10\n",
    "k = 3\n",
    "p = 0.20\n",
    "\n",
    "# Calculate the binomial coefficient\n",
    "binomial_coefficient = math.comb(n, k)\n",
    "\n",
    "# Calculate the probability\n",
    "probability = binomial_coefficient * (p**k) * ((1-p)**(n-k))\n",
    "\n",
    "print(f\"The probability of exactly 3 people smoking out of 10 is: {probability:.4f}\")\n"
   ]
  },
  {
   "cell_type": "markdown",
   "id": "7957293c",
   "metadata": {},
   "source": [
    "b) What is the probability to find less than 3 people who smoke?"
   ]
  },
  {
   "cell_type": "code",
   "execution_count": 2,
   "id": "0e102654",
   "metadata": {},
   "outputs": [
    {
     "name": "stdout",
     "output_type": "stream",
     "text": [
      "The probability of less than 3 people smoking out of 10 is: 0.6778\n"
     ]
    }
   ],
   "source": [
    "\n",
    "\n",
    "n = 10\n",
    "p = 0.20\n",
    "\n",
    "# Initialize the probability of less than 3 smokers\n",
    "probability_less_than_3 = 0\n",
    "\n",
    "# Calculate probabilities for k = 0, 1, 2 and sum them\n",
    "for k in range(3):\n",
    "    binomial_coefficient = math.comb(n, k)\n",
    "    probability_k = binomial_coefficient * (p**k) * ((1-p)**(n-k))\n",
    "    probability_less_than_3 += probability_k\n",
    "\n",
    "print(f\"The probability of less than 3 people smoking out of 10 is: {probability_less_than_3:.4f}\")\n"
   ]
  },
  {
   "cell_type": "markdown",
   "id": "58ab2086",
   "metadata": {},
   "source": [
    "c) What is the probability to find more than 3 people who smoke?"
   ]
  },
  {
   "cell_type": "code",
   "execution_count": 3,
   "id": "cb976820",
   "metadata": {},
   "outputs": [
    {
     "name": "stdout",
     "output_type": "stream",
     "text": [
      "The probability of more than 3 people smoking out of 10 is: 0.1209\n"
     ]
    }
   ],
   "source": [
    "\n",
    "\n",
    "n = 10\n",
    "p = 0.20\n",
    "\n",
    "# Initialize the probability of more than 3 smokers\n",
    "probability_more_than_3 = 0\n",
    "\n",
    "# Calculate probabilities for k = 4, 5, 6, 7, 8, 9, 10 and sum them\n",
    "for k in range(4, 11):\n",
    "    binomial_coefficient = math.comb(n, k)\n",
    "    probability_k = binomial_coefficient * (p**k) * ((1-p)**(n-k))\n",
    "    probability_more_than_3 += probability_k\n",
    "\n",
    "print(f\"The probability of more than 3 people smoking out of 10 is: {probability_more_than_3:.4f}\")\n"
   ]
  },
  {
   "cell_type": "markdown",
   "id": "facb71b5",
   "metadata": {},
   "source": [
    "d) What is the probability to find between 3 and 5 people who smoke?"
   ]
  },
  {
   "cell_type": "code",
   "execution_count": 4,
   "id": "8bea07d8",
   "metadata": {},
   "outputs": [
    {
     "name": "stdout",
     "output_type": "stream",
     "text": [
      "The probability of between 3 and 5 people smoking out of 10 is: 0.3158\n"
     ]
    }
   ],
   "source": [
    "\n",
    "\n",
    "n = 10\n",
    "p = 0.20\n",
    "\n",
    "# Initialize the probability of between 3 and 5 smokers\n",
    "probability_between_3_and_5 = 0\n",
    "\n",
    "# Calculate probabilities for k = 3, 4, 5 and sum them\n",
    "for k in range(3, 6):\n",
    "    binomial_coefficient = math.comb(n, k)\n",
    "    probability_k = binomial_coefficient * (p**k) * ((1-p)**(n-k))\n",
    "    probability_between_3_and_5 += probability_k\n",
    "\n",
    "print(f\"The probability of between 3 and 5 people smoking out of 10 is: {probability_between_3_and_5:.4f}\")\n"
   ]
  },
  {
   "cell_type": "markdown",
   "id": "1d298061",
   "metadata": {},
   "source": [
    "e) What is the probability that none of them smoke?"
   ]
  },
  {
   "cell_type": "code",
   "execution_count": 5,
   "id": "f1a9c374",
   "metadata": {},
   "outputs": [
    {
     "name": "stdout",
     "output_type": "stream",
     "text": [
      "The probability that none of them smoke is: 0.1074\n"
     ]
    }
   ],
   "source": [
    "p = 0.20\n",
    "n = 10\n",
    "\n",
    "# Calculate the probability of exactly 0 smokers\n",
    "probability_no_smokers = (1 - p) ** n\n",
    "\n",
    "print(f\"The probability that none of them smoke is: {probability_no_smokers:.4f}\")\n"
   ]
  },
  {
   "cell_type": "markdown",
   "id": "b7029e46",
   "metadata": {},
   "source": [
    "f) How many people do we expect to be smokers within these 10? Calculate Variance and Standard\n",
    "Deviation."
   ]
  },
  {
   "cell_type": "code",
   "execution_count": 6,
   "id": "b04fe831",
   "metadata": {},
   "outputs": [
    {
     "name": "stdout",
     "output_type": "stream",
     "text": [
      "Expected number of smokers: 2.0\n",
      "Variance: 1.6000\n",
      "Standard Deviation: 1.2649\n"
     ]
    }
   ],
   "source": [
    "p = 0.20\n",
    "n = 10\n",
    "\n",
    "# Calculate the expected number of smokers\n",
    "expected_smokers = n * p\n",
    "\n",
    "# Calculate the variance\n",
    "variance = n * p * (1 - p)\n",
    "\n",
    "# Calculate the standard deviation\n",
    "standard_deviation = variance ** 0.5\n",
    "\n",
    "print(f\"Expected number of smokers: {expected_smokers}\")\n",
    "print(f\"Variance: {variance:.4f}\")\n",
    "print(f\"Standard Deviation: {standard_deviation:.4f}\")\n"
   ]
  },
  {
   "cell_type": "markdown",
   "id": "a2090603",
   "metadata": {},
   "source": [
    "## From here the teacher did it"
   ]
  },
  {
   "cell_type": "code",
   "execution_count": 7,
   "id": "f1341c1e",
   "metadata": {},
   "outputs": [],
   "source": [
    "from scipy.stats import binom"
   ]
  },
  {
   "cell_type": "markdown",
   "id": "f300f594",
   "metadata": {},
   "source": [
    "a) What is the probability to find exactly 3 people who smoke?"
   ]
  },
  {
   "cell_type": "code",
   "execution_count": 10,
   "id": "05d958ca",
   "metadata": {},
   "outputs": [
    {
     "data": {
      "text/plain": [
       "0.20132659199999992"
      ]
     },
     "execution_count": 10,
     "metadata": {},
     "output_type": "execute_result"
    }
   ],
   "source": [
    "#P(X=3)\n",
    "\n",
    "binom.pmf(k=3,n=10,p=0.20)"
   ]
  },
  {
   "cell_type": "markdown",
   "id": "8ba96536",
   "metadata": {},
   "source": [
    "b) What is the probability to find less than 3 people who smoke?"
   ]
  },
  {
   "cell_type": "code",
   "execution_count": 11,
   "id": "fa43fa73",
   "metadata": {},
   "outputs": [
    {
     "data": {
      "text/plain": [
       "0.6777995263999999"
      ]
     },
     "execution_count": 11,
     "metadata": {},
     "output_type": "execute_result"
    }
   ],
   "source": [
    "#P(X < 3)\n",
    "binom.cdf( k =2, n=10, p=0.20)"
   ]
  },
  {
   "cell_type": "markdown",
   "id": "7a5bd119",
   "metadata": {},
   "source": [
    "c) What is the probability to find more than 3 people who smoke?"
   ]
  },
  {
   "cell_type": "code",
   "execution_count": 12,
   "id": "78c6e681",
   "metadata": {},
   "outputs": [
    {
     "data": {
      "text/plain": [
       "0.8791261183999999"
      ]
     },
     "execution_count": 12,
     "metadata": {},
     "output_type": "execute_result"
    }
   ],
   "source": [
    "# P(X =<3)\n",
    "\n",
    "binom.cdf( k =3, n=10, p=0.20)"
   ]
  },
  {
   "cell_type": "markdown",
   "id": "3471ff97",
   "metadata": {},
   "source": [
    "d) What is the probability to find between 3 and 5 people who smoke?"
   ]
  },
  {
   "cell_type": "code",
   "execution_count": null,
   "id": "6fb690bc",
   "metadata": {},
   "outputs": [],
   "source": [
    "# P( x>3)\n",
    "\n",
    "binom.sf(k=,n=)"
   ]
  },
  {
   "cell_type": "markdown",
   "id": "0d36b47f",
   "metadata": {},
   "source": [
    "e) What is the probability that none of them smoke?"
   ]
  },
  {
   "cell_type": "code",
   "execution_count": null,
   "id": "4983d4a8",
   "metadata": {},
   "outputs": [],
   "source": []
  }
 ],
 "metadata": {
  "kernelspec": {
   "display_name": "Python 3 (ipykernel)",
   "language": "python",
   "name": "python3"
  },
  "language_info": {
   "codemirror_mode": {
    "name": "ipython",
    "version": 3
   },
   "file_extension": ".py",
   "mimetype": "text/x-python",
   "name": "python",
   "nbconvert_exporter": "python",
   "pygments_lexer": "ipython3",
   "version": "3.9.12"
  }
 },
 "nbformat": 4,
 "nbformat_minor": 5
}
