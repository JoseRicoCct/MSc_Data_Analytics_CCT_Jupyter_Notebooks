{
 "cells": [
  {
   "cell_type": "code",
   "execution_count": 1,
   "id": "a5358a44",
   "metadata": {},
   "outputs": [],
   "source": [
    "##IMPORTING LIBRARIES\n",
    "import pandas as pd\n",
    "import statistics as stats\n",
    "import numpy as np\n",
    "import matplotlib.pyplot as plt\n",
    "import seaborn as sns"
   ]
  },
  {
   "cell_type": "code",
   "execution_count": 2,
   "id": "e9424f86",
   "metadata": {},
   "outputs": [],
   "source": [
    "\n",
    "#IMPORTING DATASET\n",
    "# Importing the dataset\n",
    "df = pd.read_excel('Exercise_1_Descriptive_Stats.xlsx')"
   ]
  },
  {
   "cell_type": "code",
   "execution_count": 3,
   "id": "c2e7caf0",
   "metadata": {},
   "outputs": [
    {
     "data": {
      "text/html": [
       "<div>\n",
       "<style scoped>\n",
       "    .dataframe tbody tr th:only-of-type {\n",
       "        vertical-align: middle;\n",
       "    }\n",
       "\n",
       "    .dataframe tbody tr th {\n",
       "        vertical-align: top;\n",
       "    }\n",
       "\n",
       "    .dataframe thead th {\n",
       "        text-align: right;\n",
       "    }\n",
       "</style>\n",
       "<table border=\"1\" class=\"dataframe\">\n",
       "  <thead>\n",
       "    <tr style=\"text-align: right;\">\n",
       "      <th></th>\n",
       "      <th>Customer ID</th>\n",
       "      <th>Entity</th>\n",
       "      <th>Name</th>\n",
       "      <th>Surname</th>\n",
       "      <th>Age at time of purchase</th>\n",
       "      <th>Y</th>\n",
       "      <th>Gender</th>\n",
       "      <th>Country</th>\n",
       "      <th>State</th>\n",
       "      <th>Purpose</th>\n",
       "      <th>Deal satisfaction</th>\n",
       "      <th>Mortgage</th>\n",
       "      <th>Source</th>\n",
       "    </tr>\n",
       "  </thead>\n",
       "  <tbody>\n",
       "    <tr>\n",
       "      <th>0</th>\n",
       "      <td>C0028</td>\n",
       "      <td>Individual</td>\n",
       "      <td>Madalyn</td>\n",
       "      <td>Mercer</td>\n",
       "      <td>19.0</td>\n",
       "      <td>1986.0</td>\n",
       "      <td>F</td>\n",
       "      <td>USA</td>\n",
       "      <td>California</td>\n",
       "      <td>Home</td>\n",
       "      <td>5</td>\n",
       "      <td>No</td>\n",
       "      <td>Website</td>\n",
       "    </tr>\n",
       "    <tr>\n",
       "      <th>1</th>\n",
       "      <td>C0027</td>\n",
       "      <td>Individual</td>\n",
       "      <td>Lara</td>\n",
       "      <td>Carrillo</td>\n",
       "      <td>22.0</td>\n",
       "      <td>1983.0</td>\n",
       "      <td>F</td>\n",
       "      <td>USA</td>\n",
       "      <td>California</td>\n",
       "      <td>Home</td>\n",
       "      <td>5</td>\n",
       "      <td>No</td>\n",
       "      <td>Website</td>\n",
       "    </tr>\n",
       "    <tr>\n",
       "      <th>2</th>\n",
       "      <td>C0112</td>\n",
       "      <td>Individual</td>\n",
       "      <td>Donavan</td>\n",
       "      <td>Flowers</td>\n",
       "      <td>22.0</td>\n",
       "      <td>1985.0</td>\n",
       "      <td>M</td>\n",
       "      <td>USA</td>\n",
       "      <td>California</td>\n",
       "      <td>Home</td>\n",
       "      <td>1</td>\n",
       "      <td>Yes</td>\n",
       "      <td>Client</td>\n",
       "    </tr>\n",
       "    <tr>\n",
       "      <th>3</th>\n",
       "      <td>C0160</td>\n",
       "      <td>Individual</td>\n",
       "      <td>Darien</td>\n",
       "      <td>Dorsey</td>\n",
       "      <td>22.0</td>\n",
       "      <td>1985.0</td>\n",
       "      <td>M</td>\n",
       "      <td>USA</td>\n",
       "      <td>California</td>\n",
       "      <td>Investment</td>\n",
       "      <td>3</td>\n",
       "      <td>Yes</td>\n",
       "      <td>Website</td>\n",
       "    </tr>\n",
       "    <tr>\n",
       "      <th>4</th>\n",
       "      <td>C0014</td>\n",
       "      <td>Individual</td>\n",
       "      <td>Alessandra</td>\n",
       "      <td>Perry</td>\n",
       "      <td>25.0</td>\n",
       "      <td>1979.0</td>\n",
       "      <td>F</td>\n",
       "      <td>USA</td>\n",
       "      <td>California</td>\n",
       "      <td>Home</td>\n",
       "      <td>4</td>\n",
       "      <td>No</td>\n",
       "      <td>Agency</td>\n",
       "    </tr>\n",
       "  </tbody>\n",
       "</table>\n",
       "</div>"
      ],
      "text/plain": [
       "  Customer ID      Entity        Name   Surname  Age at time of purchase  \\\n",
       "0       C0028  Individual     Madalyn    Mercer                     19.0   \n",
       "1       C0027  Individual        Lara  Carrillo                     22.0   \n",
       "2       C0112  Individual     Donavan   Flowers                     22.0   \n",
       "3       C0160  Individual      Darien    Dorsey                     22.0   \n",
       "4       C0014  Individual  Alessandra     Perry                     25.0   \n",
       "\n",
       "        Y Gender Country       State     Purpose  Deal satisfaction Mortgage  \\\n",
       "0  1986.0      F     USA  California        Home                  5       No   \n",
       "1  1983.0      F     USA  California        Home                  5       No   \n",
       "2  1985.0      M     USA  California        Home                  1      Yes   \n",
       "3  1985.0      M     USA  California  Investment                  3      Yes   \n",
       "4  1979.0      F     USA  California        Home                  4       No   \n",
       "\n",
       "    Source  \n",
       "0  Website  \n",
       "1  Website  \n",
       "2   Client  \n",
       "3  Website  \n",
       "4   Agency  "
      ]
     },
     "execution_count": 3,
     "metadata": {},
     "output_type": "execute_result"
    }
   ],
   "source": [
    "df.head()"
   ]
  },
  {
   "cell_type": "code",
   "execution_count": 4,
   "id": "bddc660a",
   "metadata": {},
   "outputs": [
    {
     "data": {
      "text/plain": [
       "Customer ID                 object\n",
       "Entity                      object\n",
       "Name                        object\n",
       "Surname                     object\n",
       "Age at time of purchase    float64\n",
       "Y                          float64\n",
       "Gender                      object\n",
       "Country                     object\n",
       "State                       object\n",
       "Purpose                     object\n",
       "Deal satisfaction            int64\n",
       "Mortgage                    object\n",
       "Source                      object\n",
       "dtype: object"
      ]
     },
     "execution_count": 4,
     "metadata": {},
     "output_type": "execute_result"
    }
   ],
   "source": [
    "df.dtypes"
   ]
  },
  {
   "cell_type": "code",
   "execution_count": 5,
   "id": "3499dcb7",
   "metadata": {},
   "outputs": [
    {
     "name": "stdout",
     "output_type": "stream",
     "text": [
      "<class 'pandas.core.frame.DataFrame'>\n",
      "RangeIndex: 195 entries, 0 to 194\n",
      "Data columns (total 13 columns):\n",
      " #   Column                   Non-Null Count  Dtype  \n",
      "---  ------                   --------------  -----  \n",
      " 0   Customer ID              195 non-null    object \n",
      " 1   Entity                   195 non-null    object \n",
      " 2   Name                     195 non-null    object \n",
      " 3   Surname                  195 non-null    object \n",
      " 4   Age at time of purchase  178 non-null    float64\n",
      " 5   Y                        178 non-null    float64\n",
      " 6   Gender                   178 non-null    object \n",
      " 7   Country                  195 non-null    object \n",
      " 8   State                    181 non-null    object \n",
      " 9   Purpose                  195 non-null    object \n",
      " 10  Deal satisfaction        195 non-null    int64  \n",
      " 11  Mortgage                 195 non-null    object \n",
      " 12  Source                   195 non-null    object \n",
      "dtypes: float64(2), int64(1), object(10)\n",
      "memory usage: 19.9+ KB\n"
     ]
    }
   ],
   "source": [
    "df.info()"
   ]
  },
  {
   "cell_type": "markdown",
   "id": "4d5d814d",
   "metadata": {},
   "source": [
    "## Finding out attribute types:"
   ]
  },
  {
   "cell_type": "code",
   "execution_count": 6,
   "id": "c5b827f0",
   "metadata": {},
   "outputs": [
    {
     "name": "stdout",
     "output_type": "stream",
     "text": [
      "Column: Customer ID, Type: Categorical\n",
      "Column: Entity, Type: Categorical\n",
      "Column: Name, Type: Categorical\n",
      "Column: Surname, Type: Categorical\n",
      "Column: Age at time of purchase, Type: Numerical\n",
      "Column: Y, Type: Numerical\n",
      "Column: Gender, Type: Categorical\n",
      "Column: Country, Type: Categorical\n",
      "Column: State, Type: Categorical\n",
      "Column: Purpose, Type: Categorical\n",
      "Column: Deal satisfaction, Type: Numerical\n",
      "Column: Mortgage, Type: Categorical\n",
      "Column: Source, Type: Categorical\n"
     ]
    }
   ],
   "source": [
    "# Initialize empty dictionaries to store column labels\n",
    "column_labels = {}\n",
    "\n",
    "# Loop through columns and label them based on data type\n",
    "for column in df.columns:\n",
    "    dtype = df[column].dtype\n",
    "    if dtype == 'object' or dtype.name == 'category':\n",
    "        column_labels[column] = 'Categorical'\n",
    "    elif dtype in ['int64', 'float64']:\n",
    "        column_labels[column] = 'Numerical'\n",
    "    else:\n",
    "        column_labels[column] = 'Other'\n",
    "\n",
    "# Display the labels\n",
    "for column, label in column_labels.items():\n",
    "    print(f'Column: {column}, Type: {label}')"
   ]
  },
  {
   "cell_type": "markdown",
   "id": "0120f3e4",
   "metadata": {},
   "source": [
    "## Finding missing values:\n"
   ]
  },
  {
   "cell_type": "code",
   "execution_count": 7,
   "id": "5372ebe7",
   "metadata": {},
   "outputs": [
    {
     "name": "stdout",
     "output_type": "stream",
     "text": [
      "Customer ID                 0\n",
      "Entity                      0\n",
      "Name                        0\n",
      "Surname                     0\n",
      "Age at time of purchase    17\n",
      "Y                          17\n",
      "Gender                     17\n",
      "Country                     0\n",
      "State                      14\n",
      "Purpose                     0\n",
      "Deal satisfaction           0\n",
      "Mortgage                    0\n",
      "Source                      0\n",
      "dtype: int64\n"
     ]
    }
   ],
   "source": [
    "# Count missing values in each column\n",
    "missing_values = df.isna().sum()\n",
    "\n",
    "# Print the result\n",
    "print(missing_values)"
   ]
  },
  {
   "cell_type": "markdown",
   "id": "a747fc51",
   "metadata": {},
   "source": [
    "## Distinct values:"
   ]
  },
  {
   "cell_type": "code",
   "execution_count": 8,
   "id": "2e0cf2f5",
   "metadata": {},
   "outputs": [
    {
     "name": "stdout",
     "output_type": "stream",
     "text": [
      "Distinct values in column Customer ID:\n",
      "['C0028' 'C0027' 'C0112' 'C0160' 'C0014' 'C0125' 'C0166' 'C0034' 'C0170'\n",
      " 'C0009' 'C0041' 'C0057' 'C0061' 'C0089' 'C0159' 'C0171' 'C0042' 'C0093'\n",
      " 'C0051' 'C0064' 'C0128' 'C0019' 'C0037' 'C0127' 'C0018' 'C0040' 'C0080'\n",
      " 'C0083' 'C0085' 'C0091' 'C0007' 'C0048' 'C0065' 'C0096' 'C0164' 'C0038'\n",
      " 'C0087' 'C0142' 'C0015' 'C0122' 'C0017' 'C0020' 'C0086' 'C0150' 'C0156'\n",
      " 'C0169' 'C0022' 'C0072' 'C0136' 'C0149' 'C0011' 'C0073' 'C0110' 'C0111'\n",
      " 'C0123' 'C0070' 'C0075' 'C0076' 'C0105' 'C0135' 'C0153' 'C0047' 'C0060'\n",
      " 'C0066' 'C0068' 'C0090' 'C0095' 'C0151' 'C0162' 'C0010' 'C0054' 'C0056'\n",
      " 'C0081' 'C0084' 'C0016' 'C0035' 'C0062' 'C0099' 'C0114' 'C0006' 'C0053'\n",
      " 'C0069' 'C0077' 'C0168' 'C0058' 'C0107' 'C0131' 'C0144' 'C0098' 'C0130'\n",
      " 'C0141' 'C0067' 'C0082' 'C0113' 'C0132' 'C0137' 'C0155' 'C0163' 'C0039'\n",
      " 'C0071' 'C0101' 'C0146' 'C0052' 'C0063' 'C0088' 'C0094' 'C0165' 'C0044'\n",
      " 'C0157' 'C0118' 'C0119' 'C0033' 'C0100' 'C0133' 'C0175' 'C0008' 'C0023'\n",
      " 'C0108' 'C0109' 'C0145' 'C0003' 'C0004' 'C0024' 'C0030' 'C0147' 'C0002'\n",
      " 'C0031' 'C0059' 'C0140' 'C0043' 'C0078' 'C0124' 'C0049' 'C0079' 'C0013'\n",
      " 'C0139' 'C0154' 'C0045' 'C0134' 'C0138' 'C0158' 'C0036' 'C0074' 'C0120'\n",
      " 'C0005' 'C0032' 'C0126' 'C0106' 'C0115' 'C0129' 'C0103' 'C0021' 'C0148'\n",
      " 'C0172' 'C0104' 'C0001' 'C0012' 'C0025' 'C0029' 'C0055' 'C0121' 'C0174']\n",
      "Distinct values in column Entity:\n",
      "['Individual' 'Firm']\n",
      "Distinct values in column Name:\n",
      "['Madalyn' 'Lara' 'Donavan' 'Darien' 'Alessandra' 'Kaitlin' 'Terry' 'Kole'\n",
      " 'Emmy' 'Arabella' 'Christian' 'Michelle' 'Enrique' 'Amanda' 'Kamden'\n",
      " 'Skylar' 'Michael' 'Antonio' 'Conner' 'Joaquin' 'Kyla' 'Victor' 'Tyler'\n",
      " 'Maia' 'Rodrigo' 'Gianni' 'Janelle' 'Julio' 'Melanie' 'Gordon' 'Jaelyn'\n",
      " 'Adriana' 'Mara' 'Kael' 'Belinda' 'Mohammad' 'Warren' 'Kassidy' 'Lauryn'\n",
      " 'Brock' 'Memphis' 'Grant' 'Jace' 'Emmett' 'Isis' 'Mason' 'Zain' 'Dayton'\n",
      " 'Annabel' 'Kayden' 'Davion' 'Kevin' 'Kareem' 'Grace' 'Lydia' 'Aleksandra'\n",
      " 'Sincere' 'Luke' 'Myla' 'Morgan' 'Camille' 'Alejandra' 'Valentina'\n",
      " 'Helen' 'Nicolas' 'Case' 'Iris' 'Araceli' 'Trystan' 'Erik' 'Emely'\n",
      " 'Jordyn' 'Diego' 'Harley' 'Emilie' 'Jaylen' 'Frank' 'Jakobe' 'Laci'\n",
      " 'Scarlet' 'Alonso' 'Hazel' 'Brisa' 'Johanna' 'Curtis' 'Kamila' 'Joseph'\n",
      " 'Oswaldo' 'Ezra' 'Melany' 'Jacqueline' 'Violet' 'Anya' 'Kale' 'Russell'\n",
      " 'Laurel' 'Aniyah' 'Derick' 'Cole' 'Ava' 'Nyla' 'Tristian' 'Piotr' 'Yurem'\n",
      " 'Luis' 'Anahi' 'Ramiro' 'Erika' 'Dangelo' 'Miguel' 'Alanna' 'Simon'\n",
      " 'Ivan' 'Madeline' 'Arthur' 'Bennett' 'Van' 'Rachel' 'Augustus' 'Avah'\n",
      " 'Nora' 'Irvin' 'Aiyana' 'Parker' 'Jack' 'Cedric' 'Elena' 'Aniya' 'Kayley'\n",
      " 'Zaiden' 'Sonia' 'Trey' 'Xavier' 'Franklin' 'Logan' 'Sidney' 'Matilda'\n",
      " 'Yesenia' 'Colin' 'Jair' 'Jaylynn' 'Rodolfo' 'Olivia' 'Crystal' 'Ruben'\n",
      " 'Issac' 'Jesus' 'Jamal' 'Kaylin' 'Myah' 'Henry' 'Diana' 'Kamd'\n",
      " 'Bridger CAL' 'Abdiel' 'Kenyon' 'Kylax' 'Esther' 'Marleez']\n",
      "Distinct values in column Surname:\n",
      "['Mercer' 'Carrillo' 'Flowers' 'Dorsey' 'Perry' 'Owen' 'Forbes' 'Shannon'\n",
      " 'Singh' 'Ferrell' 'Costa' 'Cameron' 'Cardenas' 'Simon' 'Stewart'\n",
      " 'Buchanan' 'Juarez' 'Porter' 'Huff' 'Mullins' 'Walker' 'Jensen' 'Carr'\n",
      " 'Chandler' 'Ramirez' 'Fritz' 'Espinoza' 'Leonard' 'Holland' 'Brown'\n",
      " 'Berger' 'Shaffer' 'Franco' 'Hurley' 'Hogan' 'Irwin' 'Pugh' 'Vega'\n",
      " 'Patrick' 'Fischer' 'Mcconnell' 'Weber' 'Riggs' 'Estes' 'Rios' 'Gilbert'\n",
      " 'Horne' 'Hatfield' 'Robles' 'Olsen' 'Stout' 'Mata' 'Liu' 'Stein' 'Tate'\n",
      " 'Karenina' 'Hansen' 'Lynn' 'Ewing' 'Glass' 'Sharp' 'Greer' 'Simpson'\n",
      " 'Williamson' 'Navarro' 'Sanchez' 'Robinson' 'Larsen' 'Nelson' 'Oconnor'\n",
      " 'Mora' 'Watts' 'Park' 'Mendez' 'Lucero' 'Morrison' 'Turner' 'Meyer'\n",
      " 'Bailey' 'Guerra' 'Hendricks' 'Terrell' 'Ayers' 'Mckee' 'Fisher' 'Howard'\n",
      " 'Collier' 'Reeves' 'Palmer' 'Lozano' 'Glover' 'Grant' 'Nixon'\n",
      " 'Stephenson' 'Gay' 'Gross' 'Benitez' 'Ali' 'Li' 'Taylor' 'Phelps' 'Blake'\n",
      " 'Fuller' 'Aleksandrov' 'Wright' 'Crane' 'Curry' 'Oneill' 'Steward' 'Shea'\n",
      " 'Walter' 'Hess' 'Bennett' 'Bright' 'Michael' 'Bray' 'Chen' 'Charles'\n",
      " 'Cross' 'Hinton' 'Huang' 'Lynch' 'Ellis' 'Christensen' 'Poole' 'Anderson'\n",
      " 'Goodwin' 'Petrova' 'Miller' 'Nielsen' 'Merritt' 'Choi' 'Strong'\n",
      " 'Faulkner' 'Mack' 'Simmons' 'Cline' 'Madden' 'Marquez' 'Campos'\n",
      " 'Gallagher' 'Johns' 'Hickman' 'Hanson' 'Gibson' 'Oconnell' 'Wyatt'\n",
      " 'Melton' 'Edwards' 'Obrien' 'Mueller' 'Villarreal' 'Roman' 'Kennedy'\n",
      " 'Hunt' 'Co']\n",
      "Distinct values in column Age at time of purchase:\n",
      "[19. 22. 25. 26. 27. 28. 29. 30. 31. 32. 33. 34. 35. 36. 37. 38. 39. 40.\n",
      " 41. 42. 43. 49. 48. 44. 45. 47. 50. 51. 52. 53. 54. 55. 56. 57. 59. 60.\n",
      " 61. 64. 65. 66. 67. 68. 69. 71. 73. 76. nan]\n",
      "Distinct values in column Y:\n",
      "[1986. 1983. 1985. 1979. 1981. 1982. 1976. 1980. 1978. 1977. 1975. 1973.\n",
      " 1974. 1972. 1970. 1971. 1969. 1968. 1967. 1965. 1966. 1962. 1964. 1957.\n",
      " 1963. 1956. 1959. 1960. 1958. 1955. 1954. 1952. 1953. 1949. 1950. 1948.\n",
      " 1951. 1947. 1943. 1946. 1941. 1942. 1940. 1937. 1939. 1938. 1936. 1932.\n",
      " 1933. 1931.   nan]\n",
      "Distinct values in column Gender:\n",
      "['F' 'M' nan]\n",
      "Distinct values in column Country:\n",
      "['USA' 'UK' 'Belgium' 'Russia' 'Denmark' 'Germany' 'Mexico' 'Canada']\n",
      "Distinct values in column State:\n",
      "['California' 'Virginia' 'Arizona' 'Oregon' 'Nevada' 'Colorado' 'Utah' nan\n",
      " 'Kansas' 'Wyoming']\n",
      "Distinct values in column Purpose:\n",
      "['Home' 'Investment']\n",
      "Distinct values in column Deal satisfaction:\n",
      "[5 1 3 4 2]\n",
      "Distinct values in column Mortgage:\n",
      "['No' 'Yes']\n",
      "Distinct values in column Source:\n",
      "['Website' 'Client' 'Agency']\n"
     ]
    }
   ],
   "source": [
    "# Get distinct values in all columns\n",
    "distinct_values = {}\n",
    "\n",
    "for column in df.columns:\n",
    "    distinct_values[column] = df[column].unique()\n",
    "\n",
    "# Print distinct values in all columns\n",
    "for column, values in distinct_values.items():\n",
    "    print(f'Distinct values in column {column}:')\n",
    "    print(values)"
   ]
  },
  {
   "cell_type": "markdown",
   "id": "d1574ee0",
   "metadata": {},
   "source": [
    "## Plotting the frecuency of the Countries:"
   ]
  },
  {
   "cell_type": "code",
   "execution_count": 9,
   "id": "94fc5b3c",
   "metadata": {},
   "outputs": [
    {
     "data": {
      "image/png": "[encoded data removed]",
      "text/plain": [
       "<Figure size 576x576 with 1 Axes>"
      ]
     },
     "metadata": {},
     "output_type": "display_data"
    }
   ],
   "source": [
    "# Count the frequency of each country\n",
    "country_counts = df['Country'].value_counts()\n",
    "\n",
    "# Create a pie chart\n",
    "plt.figure(figsize=(8, 8))\n",
    "patches, texts, autotexts = plt.pie(country_counts, labels=None, autopct='', startangle=140,shadow='True')\n",
    "plt.title('Property Buying by Country')\n",
    "\n",
    "# Generate labels for the legend with percentages rounded to two decimal places\n",
    "legend_labels = [f'{label} ({percentage:.2f}%)' for label, percentage in zip(country_counts.index, (country_counts / len(df)) * 100)]\n",
    "\n",
    "# Add the legend with labels and percentages\n",
    "plt.legend(patches, legend_labels, loc='best')\n",
    "\n",
    "# Set the aspect ratio to ensure a circular pie chart\n",
    "plt.axis('equal')\n",
    "\n",
    "# Show the plot\n",
    "plt.show()"
   ]
  },
  {
   "cell_type": "markdown",
   "id": "50b738eb",
   "metadata": {},
   "source": [
    "## Analising Customer Satisfaction:"
   ]
  },
  {
   "cell_type": "code",
   "execution_count": 10,
   "id": "f500c606",
   "metadata": {},
   "outputs": [],
   "source": [
    "#We need to rename deal satisfaction, python doesn't like spaces\n",
    "\n",
    "# Rename the column\n",
    "df.rename(columns={'Deal satisfaction': 'Deal_satisfaction'}, inplace=True)"
   ]
  },
  {
   "cell_type": "code",
   "execution_count": 11,
   "id": "abab72d8",
   "metadata": {},
   "outputs": [
    {
     "data": {
      "text/html": [
       "<div>\n",
       "<style scoped>\n",
       "    .dataframe tbody tr th:only-of-type {\n",
       "        vertical-align: middle;\n",
       "    }\n",
       "\n",
       "    .dataframe tbody tr th {\n",
       "        vertical-align: top;\n",
       "    }\n",
       "\n",
       "    .dataframe thead th {\n",
       "        text-align: right;\n",
       "    }\n",
       "</style>\n",
       "<table border=\"1\" class=\"dataframe\">\n",
       "  <thead>\n",
       "    <tr style=\"text-align: right;\">\n",
       "      <th></th>\n",
       "      <th>Customer ID</th>\n",
       "      <th>Entity</th>\n",
       "      <th>Name</th>\n",
       "      <th>Surname</th>\n",
       "      <th>Age at time of purchase</th>\n",
       "      <th>Y</th>\n",
       "      <th>Gender</th>\n",
       "      <th>Country</th>\n",
       "      <th>State</th>\n",
       "      <th>Purpose</th>\n",
       "      <th>Deal_satisfaction</th>\n",
       "      <th>Mortgage</th>\n",
       "      <th>Source</th>\n",
       "    </tr>\n",
       "  </thead>\n",
       "  <tbody>\n",
       "    <tr>\n",
       "      <th>0</th>\n",
       "      <td>C0028</td>\n",
       "      <td>Individual</td>\n",
       "      <td>Madalyn</td>\n",
       "      <td>Mercer</td>\n",
       "      <td>19.0</td>\n",
       "      <td>1986.0</td>\n",
       "      <td>F</td>\n",
       "      <td>USA</td>\n",
       "      <td>California</td>\n",
       "      <td>Home</td>\n",
       "      <td>5</td>\n",
       "      <td>No</td>\n",
       "      <td>Website</td>\n",
       "    </tr>\n",
       "    <tr>\n",
       "      <th>1</th>\n",
       "      <td>C0027</td>\n",
       "      <td>Individual</td>\n",
       "      <td>Lara</td>\n",
       "      <td>Carrillo</td>\n",
       "      <td>22.0</td>\n",
       "      <td>1983.0</td>\n",
       "      <td>F</td>\n",
       "      <td>USA</td>\n",
       "      <td>California</td>\n",
       "      <td>Home</td>\n",
       "      <td>5</td>\n",
       "      <td>No</td>\n",
       "      <td>Website</td>\n",
       "    </tr>\n",
       "    <tr>\n",
       "      <th>2</th>\n",
       "      <td>C0112</td>\n",
       "      <td>Individual</td>\n",
       "      <td>Donavan</td>\n",
       "      <td>Flowers</td>\n",
       "      <td>22.0</td>\n",
       "      <td>1985.0</td>\n",
       "      <td>M</td>\n",
       "      <td>USA</td>\n",
       "      <td>California</td>\n",
       "      <td>Home</td>\n",
       "      <td>1</td>\n",
       "      <td>Yes</td>\n",
       "      <td>Client</td>\n",
       "    </tr>\n",
       "    <tr>\n",
       "      <th>3</th>\n",
       "      <td>C0160</td>\n",
       "      <td>Individual</td>\n",
       "      <td>Darien</td>\n",
       "      <td>Dorsey</td>\n",
       "      <td>22.0</td>\n",
       "      <td>1985.0</td>\n",
       "      <td>M</td>\n",
       "      <td>USA</td>\n",
       "      <td>California</td>\n",
       "      <td>Investment</td>\n",
       "      <td>3</td>\n",
       "      <td>Yes</td>\n",
       "      <td>Website</td>\n",
       "    </tr>\n",
       "    <tr>\n",
       "      <th>4</th>\n",
       "      <td>C0014</td>\n",
       "      <td>Individual</td>\n",
       "      <td>Alessandra</td>\n",
       "      <td>Perry</td>\n",
       "      <td>25.0</td>\n",
       "      <td>1979.0</td>\n",
       "      <td>F</td>\n",
       "      <td>USA</td>\n",
       "      <td>California</td>\n",
       "      <td>Home</td>\n",
       "      <td>4</td>\n",
       "      <td>No</td>\n",
       "      <td>Agency</td>\n",
       "    </tr>\n",
       "  </tbody>\n",
       "</table>\n",
       "</div>"
      ],
      "text/plain": [
       "  Customer ID      Entity        Name   Surname  Age at time of purchase  \\\n",
       "0       C0028  Individual     Madalyn    Mercer                     19.0   \n",
       "1       C0027  Individual        Lara  Carrillo                     22.0   \n",
       "2       C0112  Individual     Donavan   Flowers                     22.0   \n",
       "3       C0160  Individual      Darien    Dorsey                     22.0   \n",
       "4       C0014  Individual  Alessandra     Perry                     25.0   \n",
       "\n",
       "        Y Gender Country       State     Purpose  Deal_satisfaction Mortgage  \\\n",
       "0  1986.0      F     USA  California        Home                  5       No   \n",
       "1  1983.0      F     USA  California        Home                  5       No   \n",
       "2  1985.0      M     USA  California        Home                  1      Yes   \n",
       "3  1985.0      M     USA  California  Investment                  3      Yes   \n",
       "4  1979.0      F     USA  California        Home                  4       No   \n",
       "\n",
       "    Source  \n",
       "0  Website  \n",
       "1  Website  \n",
       "2   Client  \n",
       "3  Website  \n",
       "4   Agency  "
      ]
     },
     "execution_count": 11,
     "metadata": {},
     "output_type": "execute_result"
    }
   ],
   "source": [
    "df.head()"
   ]
  },
  {
   "cell_type": "code",
   "execution_count": 12,
   "id": "bedc5698",
   "metadata": {},
   "outputs": [
    {
     "data": {
      "image/png": "[encoded data removed]",
      "text/plain": [
       "<Figure size 576x432 with 1 Axes>"
      ]
     },
     "metadata": {
      "needs_background": "light"
     },
     "output_type": "display_data"
    }
   ],
   "source": [
    "# Define labels for the satisfaction levels\n",
    "satisfaction_labels = {\n",
    "    1: 'Very Poor',\n",
    "    2: 'Poor',\n",
    "    3: 'Neutral',\n",
    "    4: 'Satisfied',\n",
    "    5: 'Very Satisfied'\n",
    "}\n",
    "\n",
    "# Replace numeric values with labels\n",
    "df['Deal_satisfaction'] = df['Deal_satisfaction'].map(satisfaction_labels)\n",
    "\n",
    "# Count the frequency of each satisfaction level\n",
    "satisfaction_counts = df['Deal_satisfaction'].value_counts()\n",
    "\n",
    "# Create a bar plot to visualize the distribution\n",
    "plt.figure(figsize=(8, 6))\n",
    "satisfaction_counts.plot(kind='bar', color='skyblue')\n",
    "plt.title('Deal Satisfaction Distribution')\n",
    "plt.xlabel('Satisfaction Level')\n",
    "plt.ylabel('Frequency')\n",
    "plt.xticks(rotation=45)  # Rotate x-axis labels for better readability\n",
    "\n",
    "# Show the plot\n",
    "plt.tight_layout()\n",
    "plt.show()"
   ]
  },
  {
   "cell_type": "code",
   "execution_count": 13,
   "id": "407bd57d",
   "metadata": {},
   "outputs": [
    {
     "data": {
      "text/plain": [
       "Very Satisfied    72\n",
       "Neutral           39\n",
       "Satisfied         39\n",
       "Poor              25\n",
       "Very Poor         20\n",
       "Name: Deal_satisfaction, dtype: int64"
      ]
     },
     "execution_count": 13,
     "metadata": {},
     "output_type": "execute_result"
    }
   ],
   "source": [
    "satisfaction_counts"
   ]
  },
  {
   "cell_type": "markdown",
   "id": "b071909f",
   "metadata": {},
   "source": [
    "## Analising buyer's age by sex:"
   ]
  },
  {
   "cell_type": "code",
   "execution_count": 14,
   "id": "d172e307",
   "metadata": {},
   "outputs": [],
   "source": [
    "#We need to rename age, python doesn't like spaces\n",
    "\n",
    "# Rename the column\n",
    "df.rename(columns={'Age at time of purchase': 'Age'}, inplace=True)"
   ]
  },
  {
   "cell_type": "code",
   "execution_count": 15,
   "id": "c93e3d83",
   "metadata": {},
   "outputs": [
    {
     "data": {
      "text/html": [
       "<div>\n",
       "<style scoped>\n",
       "    .dataframe tbody tr th:only-of-type {\n",
       "        vertical-align: middle;\n",
       "    }\n",
       "\n",
       "    .dataframe tbody tr th {\n",
       "        vertical-align: top;\n",
       "    }\n",
       "\n",
       "    .dataframe thead th {\n",
       "        text-align: right;\n",
       "    }\n",
       "</style>\n",
       "<table border=\"1\" class=\"dataframe\">\n",
       "  <thead>\n",
       "    <tr style=\"text-align: right;\">\n",
       "      <th></th>\n",
       "      <th>Customer ID</th>\n",
       "      <th>Entity</th>\n",
       "      <th>Name</th>\n",
       "      <th>Surname</th>\n",
       "      <th>Age</th>\n",
       "      <th>Y</th>\n",
       "      <th>Gender</th>\n",
       "      <th>Country</th>\n",
       "      <th>State</th>\n",
       "      <th>Purpose</th>\n",
       "      <th>Deal_satisfaction</th>\n",
       "      <th>Mortgage</th>\n",
       "      <th>Source</th>\n",
       "    </tr>\n",
       "  </thead>\n",
       "  <tbody>\n",
       "    <tr>\n",
       "      <th>0</th>\n",
       "      <td>C0028</td>\n",
       "      <td>Individual</td>\n",
       "      <td>Madalyn</td>\n",
       "      <td>Mercer</td>\n",
       "      <td>19.0</td>\n",
       "      <td>1986.0</td>\n",
       "      <td>F</td>\n",
       "      <td>USA</td>\n",
       "      <td>California</td>\n",
       "      <td>Home</td>\n",
       "      <td>Very Satisfied</td>\n",
       "      <td>No</td>\n",
       "      <td>Website</td>\n",
       "    </tr>\n",
       "    <tr>\n",
       "      <th>1</th>\n",
       "      <td>C0027</td>\n",
       "      <td>Individual</td>\n",
       "      <td>Lara</td>\n",
       "      <td>Carrillo</td>\n",
       "      <td>22.0</td>\n",
       "      <td>1983.0</td>\n",
       "      <td>F</td>\n",
       "      <td>USA</td>\n",
       "      <td>California</td>\n",
       "      <td>Home</td>\n",
       "      <td>Very Satisfied</td>\n",
       "      <td>No</td>\n",
       "      <td>Website</td>\n",
       "    </tr>\n",
       "    <tr>\n",
       "      <th>2</th>\n",
       "      <td>C0112</td>\n",
       "      <td>Individual</td>\n",
       "      <td>Donavan</td>\n",
       "      <td>Flowers</td>\n",
       "      <td>22.0</td>\n",
       "      <td>1985.0</td>\n",
       "      <td>M</td>\n",
       "      <td>USA</td>\n",
       "      <td>California</td>\n",
       "      <td>Home</td>\n",
       "      <td>Very Poor</td>\n",
       "      <td>Yes</td>\n",
       "      <td>Client</td>\n",
       "    </tr>\n",
       "    <tr>\n",
       "      <th>3</th>\n",
       "      <td>C0160</td>\n",
       "      <td>Individual</td>\n",
       "      <td>Darien</td>\n",
       "      <td>Dorsey</td>\n",
       "      <td>22.0</td>\n",
       "      <td>1985.0</td>\n",
       "      <td>M</td>\n",
       "      <td>USA</td>\n",
       "      <td>California</td>\n",
       "      <td>Investment</td>\n",
       "      <td>Neutral</td>\n",
       "      <td>Yes</td>\n",
       "      <td>Website</td>\n",
       "    </tr>\n",
       "    <tr>\n",
       "      <th>4</th>\n",
       "      <td>C0014</td>\n",
       "      <td>Individual</td>\n",
       "      <td>Alessandra</td>\n",
       "      <td>Perry</td>\n",
       "      <td>25.0</td>\n",
       "      <td>1979.0</td>\n",
       "      <td>F</td>\n",
       "      <td>USA</td>\n",
       "      <td>California</td>\n",
       "      <td>Home</td>\n",
       "      <td>Satisfied</td>\n",
       "      <td>No</td>\n",
       "      <td>Agency</td>\n",
       "    </tr>\n",
       "  </tbody>\n",
       "</table>\n",
       "</div>"
      ],
      "text/plain": [
       "  Customer ID      Entity        Name   Surname   Age       Y Gender Country  \\\n",
       "0       C0028  Individual     Madalyn    Mercer  19.0  1986.0      F     USA   \n",
       "1       C0027  Individual        Lara  Carrillo  22.0  1983.0      F     USA   \n",
       "2       C0112  Individual     Donavan   Flowers  22.0  1985.0      M     USA   \n",
       "3       C0160  Individual      Darien    Dorsey  22.0  1985.0      M     USA   \n",
       "4       C0014  Individual  Alessandra     Perry  25.0  1979.0      F     USA   \n",
       "\n",
       "        State     Purpose Deal_satisfaction Mortgage   Source  \n",
       "0  California        Home    Very Satisfied       No  Website  \n",
       "1  California        Home    Very Satisfied       No  Website  \n",
       "2  California        Home         Very Poor      Yes   Client  \n",
       "3  California  Investment           Neutral      Yes  Website  \n",
       "4  California        Home         Satisfied       No   Agency  "
      ]
     },
     "execution_count": 15,
     "metadata": {},
     "output_type": "execute_result"
    }
   ],
   "source": [
    "df.head()"
   ]
  },
  {
   "cell_type": "code",
   "execution_count": 17,
   "id": "f7aee3d0",
   "metadata": {},
   "outputs": [
    {
     "name": "stdout",
     "output_type": "stream",
     "text": [
      "Gender         F   M\n",
      "Age_Category        \n",
      "18-29          9  11\n",
      "30-39         20  24\n",
      "40-49         20  32\n",
      "50-59         11  26\n",
      "60-69          7  12\n",
      "70+            3   3\n"
     ]
    }
   ],
   "source": [
    "# Define the age bins and labels\n",
    "age_bins = [18, 30, 40, 50, 60, 70, 80]\n",
    "age_labels = ['18-29', '30-39', '40-49', '50-59', '60-69', '70+']\n",
    "\n",
    "# Create a new column with age categories\n",
    "df['Age_Category'] = pd.cut(df['Age'], bins=age_bins, labels=age_labels)\n",
    "\n",
    "# Create a cross-tabulation with row and column labels\n",
    "cross_tab = pd.crosstab(index=df['Age_Category'], columns=df['Gender'], rownames=['Age_Category'], colnames=['Gender'])\n",
    "\n",
    "# Display the cross-tabulation\n",
    "print(cross_tab)"
   ]
  },
  {
   "cell_type": "code",
   "execution_count": 18,
   "id": "ae8be157",
   "metadata": {},
   "outputs": [
    {
     "data": {
      "text/html": [
       "<div>\n",
       "<style scoped>\n",
       "    .dataframe tbody tr th:only-of-type {\n",
       "        vertical-align: middle;\n",
       "    }\n",
       "\n",
       "    .dataframe tbody tr th {\n",
       "        vertical-align: top;\n",
       "    }\n",
       "\n",
       "    .dataframe thead th {\n",
       "        text-align: right;\n",
       "    }\n",
       "</style>\n",
       "<table border=\"1\" class=\"dataframe\">\n",
       "  <thead>\n",
       "    <tr style=\"text-align: right;\">\n",
       "      <th>Gender</th>\n",
       "      <th>F</th>\n",
       "      <th>M</th>\n",
       "    </tr>\n",
       "    <tr>\n",
       "      <th>Age_Category</th>\n",
       "      <th></th>\n",
       "      <th></th>\n",
       "    </tr>\n",
       "  </thead>\n",
       "  <tbody>\n",
       "    <tr>\n",
       "      <th>18-29</th>\n",
       "      <td>9</td>\n",
       "      <td>11</td>\n",
       "    </tr>\n",
       "    <tr>\n",
       "      <th>30-39</th>\n",
       "      <td>20</td>\n",
       "      <td>24</td>\n",
       "    </tr>\n",
       "    <tr>\n",
       "      <th>40-49</th>\n",
       "      <td>20</td>\n",
       "      <td>32</td>\n",
       "    </tr>\n",
       "    <tr>\n",
       "      <th>50-59</th>\n",
       "      <td>11</td>\n",
       "      <td>26</td>\n",
       "    </tr>\n",
       "    <tr>\n",
       "      <th>60-69</th>\n",
       "      <td>7</td>\n",
       "      <td>12</td>\n",
       "    </tr>\n",
       "    <tr>\n",
       "      <th>70+</th>\n",
       "      <td>3</td>\n",
       "      <td>3</td>\n",
       "    </tr>\n",
       "  </tbody>\n",
       "</table>\n",
       "</div>"
      ],
      "text/plain": [
       "Gender         F   M\n",
       "Age_Category        \n",
       "18-29          9  11\n",
       "30-39         20  24\n",
       "40-49         20  32\n",
       "50-59         11  26\n",
       "60-69          7  12\n",
       "70+            3   3"
      ]
     },
     "execution_count": 18,
     "metadata": {},
     "output_type": "execute_result"
    }
   ],
   "source": [
    "cross_tab"
   ]
  },
  {
   "cell_type": "code",
   "execution_count": 19,
   "id": "8b25aeaa",
   "metadata": {},
   "outputs": [
    {
     "data": {
      "image/png": "[encoded data removed]",
      "text/plain": [
       "<Figure size 576x432 with 2 Axes>"
      ]
     },
     "metadata": {
      "needs_background": "light"
     },
     "output_type": "display_data"
    }
   ],
   "source": [
    "\n",
    "\n",
    "# Define the age bins and labels\n",
    "age_bins = [18, 30, 40, 50, 60, 70, 80]\n",
    "age_labels = ['18-29', '30-39', '40-49', '50-59', '60-69', '70+']\n",
    "\n",
    "# Create a new column with age categories\n",
    "df['Age_Category'] = pd.cut(df['Age'], bins=age_bins, labels=age_labels)\n",
    "\n",
    "# Create a cross-tabulation with row and column totals\n",
    "cross_tab = pd.crosstab(index=df['Age_Category'], columns=df['Gender'], rownames=['Age_Category'], colnames=['Gender'], margins=True)\n",
    "\n",
    "# Create a heatmap plot\n",
    "plt.figure(figsize=(8, 6))\n",
    "sns.heatmap(cross_tab, annot=True, cmap='YlGnBu', fmt='d', linewidths=0.5)\n",
    "\n",
    "# Set plot labels and title\n",
    "plt.xlabel('Gender')\n",
    "plt.ylabel('Age Category')\n",
    "plt.title('Cross-Tabulation of Age Category and Gender with Totals')\n",
    "\n",
    "# Show the plot\n",
    "plt.show()\n",
    "\n",
    "\n"
   ]
  },
  {
   "cell_type": "markdown",
   "id": "76f836bd",
   "metadata": {},
   "source": [
    "## Analising column Purpose:"
   ]
  },
  {
   "cell_type": "code",
   "execution_count": 20,
   "id": "0206d151",
   "metadata": {},
   "outputs": [
    {
     "data": {
      "image/png": "[encoded data removed]",
      "text/plain": [
       "<Figure size 576x432 with 1 Axes>"
      ]
     },
     "metadata": {
      "needs_background": "light"
     },
     "output_type": "display_data"
    }
   ],
   "source": [
    "# Count the frequency of each purpose\n",
    "purpose_counts = df['Purpose'].value_counts()\n",
    "\n",
    "# Create a bar plot to visualize the distribution\n",
    "plt.figure(figsize=(8, 6))\n",
    "purpose_counts.plot(kind='bar', color='skyblue')\n",
    "plt.title('Distribution of Purpose')\n",
    "plt.xlabel('Purpose')\n",
    "plt.ylabel('Frequency')\n",
    "\n",
    "# Show the plot\n",
    "plt.tight_layout()\n",
    "plt.show()"
   ]
  },
  {
   "cell_type": "code",
   "execution_count": 21,
   "id": "e22fc611",
   "metadata": {},
   "outputs": [
    {
     "data": {
      "text/plain": [
       "Home          119\n",
       "Investment     76\n",
       "Name: Purpose, dtype: int64"
      ]
     },
     "execution_count": 21,
     "metadata": {},
     "output_type": "execute_result"
    }
   ],
   "source": [
    "purpose_counts"
   ]
  },
  {
   "cell_type": "markdown",
   "id": "8f768170",
   "metadata": {},
   "source": [
    "## Analising Column Mortgage:"
   ]
  },
  {
   "cell_type": "code",
   "execution_count": 22,
   "id": "f092f72b",
   "metadata": {},
   "outputs": [
    {
     "data": {
      "image/png": "[encoded data removed]",
      "text/plain": [
       "<Figure size 576x432 with 1 Axes>"
      ]
     },
     "metadata": {
      "needs_background": "light"
     },
     "output_type": "display_data"
    }
   ],
   "source": [
    "# Count the frequency of each mortgage status\n",
    "mortgage_counts = df['Mortgage'].value_counts()\n",
    "\n",
    "# Create a bar plot to visualize the distribution\n",
    "plt.figure(figsize=(8, 6))\n",
    "mortgage_counts.plot(kind='bar', color='skyblue')\n",
    "plt.title('Distribution of Mortgage Status')\n",
    "plt.xlabel('Mortgage Status')\n",
    "plt.ylabel('Frequency')\n",
    "\n",
    "# Show the plot\n",
    "plt.tight_layout()\n",
    "plt.show()"
   ]
  },
  {
   "cell_type": "code",
   "execution_count": 23,
   "id": "651ecc61",
   "metadata": {},
   "outputs": [
    {
     "data": {
      "text/plain": [
       "No     134\n",
       "Yes     61\n",
       "Name: Mortgage, dtype: int64"
      ]
     },
     "execution_count": 23,
     "metadata": {},
     "output_type": "execute_result"
    }
   ],
   "source": [
    "mortgage_counts"
   ]
  },
  {
   "cell_type": "markdown",
   "id": "094b3326",
   "metadata": {},
   "source": [
    "## Analising column Source:"
   ]
  },
  {
   "cell_type": "code",
   "execution_count": 24,
   "id": "6a34ce17",
   "metadata": {},
   "outputs": [
    {
     "data": {
      "image/png": "[encoded data removed]",
      "text/plain": [
       "<Figure size 576x432 with 1 Axes>"
      ]
     },
     "metadata": {
      "needs_background": "light"
     },
     "output_type": "display_data"
    }
   ],
   "source": [
    "# Count the frequency of each source\n",
    "source_counts = df['Source'].value_counts()\n",
    "\n",
    "# Create a bar plot to visualize the distribution\n",
    "plt.figure(figsize=(8, 6))\n",
    "source_counts.plot(kind='bar', color='skyblue')\n",
    "plt.title('Distribution of Source')\n",
    "plt.xlabel('Source')\n",
    "plt.ylabel('Frequency')\n",
    "\n",
    "# Show the plot\n",
    "plt.tight_layout()\n",
    "plt.show()"
   ]
  },
  {
   "cell_type": "code",
   "execution_count": 25,
   "id": "e701db59",
   "metadata": {},
   "outputs": [
    {
     "data": {
      "text/plain": [
       "Website    119\n",
       "Agency      59\n",
       "Client      17\n",
       "Name: Source, dtype: int64"
      ]
     },
     "execution_count": 25,
     "metadata": {},
     "output_type": "execute_result"
    }
   ],
   "source": [
    "source_counts"
   ]
  },
  {
   "cell_type": "markdown",
   "id": "9c5e3a74",
   "metadata": {},
   "source": [
    "## Correlation between Age and Mortgage:"
   ]
  },
  {
   "cell_type": "code",
   "execution_count": 27,
   "id": "a41d1033",
   "metadata": {},
   "outputs": [
    {
     "data": {
      "image/png": "[encoded data removed]",
      "text/plain": [
       "<Figure size 576x432 with 1 Axes>"
      ]
     },
     "metadata": {
      "needs_background": "light"
     },
     "output_type": "display_data"
    }
   ],
   "source": [
    "# Convert 'Mortgage' column to numeric if needed (e.g., converting 'Yes' to 1 and 'No' to 0)\n",
    "df['Mortgage'] = df['Mortgage'].map({'Yes': 1, 'No': 0})\n",
    "\n",
    "# Calculate the correlation between 'Age' and 'Mortgage'\n",
    "correlation = df['Age'].corr(df['Mortgage'])\n",
    "\n",
    "# Create a scatter plot to visualize the relationship\n",
    "plt.figure(figsize=(8, 6))\n",
    "plt.scatter(df['Age'], df['Mortgage'], alpha=0.6)\n",
    "plt.title(f'Correlation between Age and Mortgage: {correlation:.2f}')\n",
    "plt.xlabel('Age')\n",
    "plt.ylabel('Mortgage')\n",
    "\n",
    "# Show the plot\n",
    "plt.show()"
   ]
  },
  {
   "cell_type": "code",
   "execution_count": 28,
   "id": "a667a5a1",
   "metadata": {},
   "outputs": [
    {
     "data": {
      "text/plain": [
       "-0.093698179763434"
      ]
     },
     "execution_count": 28,
     "metadata": {},
     "output_type": "execute_result"
    }
   ],
   "source": [
    "correlation"
   ]
  },
  {
   "cell_type": "markdown",
   "id": "56a76995",
   "metadata": {},
   "source": [
    "We can see that correlation coefficient is very weak. Weak negative linear relatiship between the 'Age' and the 'Mortgage'.\n",
    "\n",
    "**Magnitued of the Correlation Coefficient:**\n",
    "* The correlation coefficient ranges from -1 to 1.\n",
    "* A value of 1 indicates a perfect positive linear relationship, meaning that as one variable increases, the other also increases linearly.\n",
    "* A value of -1 indicates a perfect negative linear relationship, meaning that as one variable increases, the other decreases linearly.\n",
    "* A value close to 0 indicates a weak or no linear relationship.\n",
    "\n",
    "In summary, a correlation coefficient of -0.09369 indicates a weak, negative linear relationship between 'Age' and 'Mortgage' in your dataset. The two variables have a very limited linear association, and other factors are likely more influential in determining 'Mortgage' values.\n"
   ]
  },
  {
   "cell_type": "code",
   "execution_count": null,
   "id": "7229f811",
   "metadata": {},
   "outputs": [],
   "source": []
  }
 ],
 "metadata": {
  "kernelspec": {
   "display_name": "Python 3 (ipykernel)",
   "language": "python",
   "name": "python3"
  },
  "language_info": {
   "codemirror_mode": {
    "name": "ipython",
    "version": 3
   },
   "file_extension": ".py",
   "mimetype": "text/x-python",
   "name": "python",
   "nbconvert_exporter": "python",
   "pygments_lexer": "ipython3",
   "version": "3.9.12"
  }
 },
 "nbformat": 4,
 "nbformat_minor": 5
}
