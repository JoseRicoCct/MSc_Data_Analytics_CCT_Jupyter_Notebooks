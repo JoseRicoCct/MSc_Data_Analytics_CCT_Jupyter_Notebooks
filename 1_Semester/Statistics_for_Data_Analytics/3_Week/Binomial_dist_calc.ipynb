{
 "cells": [
  {
   "cell_type": "markdown",
   "id": "80f3d70a",
   "metadata": {},
   "source": [
    "# Binomial Distribution"
   ]
  },
  {
   "cell_type": "code",
   "execution_count": 1,
   "id": "e7c39477",
   "metadata": {},
   "outputs": [],
   "source": [
    "from scipy.stats import binom"
   ]
  },
  {
   "cell_type": "markdown",
   "id": "cd7cccc4",
   "metadata": {},
   "source": [
    "a) What is the probability to find exactly 3 people who smoke?"
   ]
  },
  {
   "cell_type": "code",
   "execution_count": 2,
   "id": "3af78086",
   "metadata": {},
   "outputs": [
    {
     "data": {
      "text/plain": [
       "0.20132659199999992"
      ]
     },
     "execution_count": 2,
     "metadata": {},
     "output_type": "execute_result"
    }
   ],
   "source": [
    "#P(X = 3)\n",
    "\n",
    "binom.pmf(k = 3, n= 10, p =0.20)"
   ]
  },
  {
   "cell_type": "markdown",
   "id": "d3d56b32",
   "metadata": {},
   "source": [
    "b) What is the probability to find less than 3 people who smoke?"
   ]
  },
  {
   "cell_type": "code",
   "execution_count": 3,
   "id": "fb44c334",
   "metadata": {},
   "outputs": [
    {
     "data": {
      "text/plain": [
       "0.6777995263999999"
      ]
     },
     "execution_count": 3,
     "metadata": {},
     "output_type": "execute_result"
    }
   ],
   "source": [
    "#P(x < 3) \n",
    "\n",
    "binom.cdf( k = 2, n = 10, p = 0.20)"
   ]
  },
  {
   "cell_type": "markdown",
   "id": "3635ee86",
   "metadata": {},
   "source": [
    "c) What is the probability to find more than 3 people who smoke?"
   ]
  },
  {
   "cell_type": "code",
   "execution_count": 4,
   "id": "ed42f86c",
   "metadata": {},
   "outputs": [
    {
     "data": {
      "text/plain": [
       "0.12087388160000007"
      ]
     },
     "execution_count": 4,
     "metadata": {},
     "output_type": "execute_result"
    }
   ],
   "source": [
    "# P( X >3)\n",
    "\n",
    "binom.sf(k = 3, n = 10, p = 0.20 )"
   ]
  },
  {
   "cell_type": "markdown",
   "id": "d3e9898d",
   "metadata": {},
   "source": [
    "d) What is the probability to find at least 3 people who smoke?"
   ]
  },
  {
   "cell_type": "code",
   "execution_count": 5,
   "id": "f6e6555e",
   "metadata": {},
   "outputs": [
    {
     "data": {
      "text/plain": [
       "0.8791261183999999"
      ]
     },
     "execution_count": 5,
     "metadata": {},
     "output_type": "execute_result"
    }
   ],
   "source": [
    "# P(x =<3)\n",
    "\n",
    "binom.cdf( k = 3, n = 10, p = 0.20)"
   ]
  },
  {
   "cell_type": "code",
   "execution_count": null,
   "id": "62feb8e0",
   "metadata": {},
   "outputs": [],
   "source": []
  }
 ],
 "metadata": {
  "kernelspec": {
   "display_name": "Python 3 (ipykernel)",
   "language": "python",
   "name": "python3"
  },
  "language_info": {
   "codemirror_mode": {
    "name": "ipython",
    "version": 3
   },
   "file_extension": ".py",
   "mimetype": "text/x-python",
   "name": "python",
   "nbconvert_exporter": "python",
   "pygments_lexer": "ipython3",
   "version": "3.9.12"
  }
 },
 "nbformat": 4,
 "nbformat_minor": 5
}
